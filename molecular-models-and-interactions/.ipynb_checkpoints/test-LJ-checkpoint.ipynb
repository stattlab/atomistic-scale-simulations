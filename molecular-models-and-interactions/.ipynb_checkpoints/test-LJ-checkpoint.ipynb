{
 "cells": [
  {
   "cell_type": "markdown",
   "id": "68d81453-8c84-4d3a-ac68-7e5ede8318a3",
   "metadata": {},
   "source": [
    "## Lennard-Jones Potential \n",
    "\n",
    "Markdown test "
   ]
  },
  {
   "cell_type": "code",
   "execution_count": 1,
   "id": "b5f48ef4-e4d5-47d0-bdb0-1a09c9034122",
   "metadata": {},
   "outputs": [],
   "source": [
    ":tags: [hide-input]\n",
    "import matplotlib.pyplot as plt\n",
    "import numpy as np\n",
    "\n",
    "# Harmonic bond potential\n",
    "def harmonic_bond_potential(r, k, r0):\n",
    "    return 0.5 * k * (r - r0)**2\n",
    "\n",
    "# Harmonic bond force\n",
    "def harmonic_bond_force(r, k, r0):\n",
    "    return -k * (r - r0)\n",
    "\n",
    "# Parameters\n",
    "k = 1.0\n",
    "r0 = 1.0\n",
    "r_values = np.linspace(0.5, 1.5, 100)\n",
    "U_values = harmonic_bond_potential(r_values, k, r0)\n",
    "F_values = harmonic_bond_force(r_values, k, r0)\n",
    "\n",
    "# Plot\n",
    "fig, axs = plt.subplots(1, 2)\n",
    "axs[0].plot(r_values, U_values)\n",
    "axs[0].axvline(x=r0, color='r', linestyle='--', label='Equilibrium Length')\n",
    "axs[0].set_xlabel('$r$')\n",
    "axs[0].set_ylabel('$U_{\\text{bond}}(r)$')\n",
    "axs[0].set_title('Harmonic Bond Potential')\n",
    "axs[0].legend()\n",
    "axs[1].plot(r_values, F_values)\n",
    "axs[1].axvline(x=r0, color='r', linestyle='--', label='Equilibrium Length')\n",
    "axs[1].set_xlabel('$r$')\n",
    "axs[1].set_ylabel('$F_{\\text{bond}}(r)$')\n",
    "axs[1].set_title('Harmonic Bond Force')\n",
    "axs[1].legend()\n",
    "plt.tight_layout()\n",
    "plt.show()"
   ]
  },
  {
   "cell_type": "code",
   "execution_count": null,
   "id": "6285399f-60ee-49a9-9b5b-21e036d55018",
   "metadata": {},
   "outputs": [],
   "source": []
  },
  {
   "cell_type": "code",
   "execution_count": null,
   "id": "a6270b89-4c5e-4f45-ace3-2ecef6c3f142",
   "metadata": {},
   "outputs": [],
   "source": []
  }
 ],
 "metadata": {
  "kernelspec": {
   "display_name": "Python 3 (ipykernel)",
   "language": "python",
   "name": "python3"
  },
  "language_info": {
   "codemirror_mode": {
    "name": "ipython",
    "version": 3
   },
   "file_extension": ".py",
   "mimetype": "text/x-python",
   "name": "python",
   "nbconvert_exporter": "python",
   "pygments_lexer": "ipython3",
   "version": "3.11.8"
  }
 },
 "nbformat": 4,
 "nbformat_minor": 5
}
